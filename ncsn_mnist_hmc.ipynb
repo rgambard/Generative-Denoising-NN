{
 "cells": [
  {
   "cell_type": "markdown",
   "id": "d63ec39f",
   "metadata": {},
   "source": [
    "## Implement annealed HMC sampling for MNIST generation"
   ]
  },
  {
   "cell_type": "markdown",
   "id": "ZIYIQ4aZroBR",
   "metadata": {
    "id": "ZIYIQ4aZroBR"
   },
   "source": [
    "## Model Definition\n",
    "First, we defined the sigmas of perturbation distibutsions.\n",
    "$$ q_{\\sigma}(x)=\\int p_{data}(t)\\mathcal(x \\vert t, \\sigma^2\\mathbf{I}) $$\n",
    "<br>\n",
    "<br>\n",
    "\n",
    "However, $s_{\\theta}(x)=\\nabla_{x}{\\log}q_{\\sigma}(x)\\approx\\nabla_{x}{\\log}p_{data}(x)$ is true only when the noise is small enough s.t. $q_{\\sigma}(x) \\approx p_{data}(x)$.\n",
    "Therefore, by using multiple noise levels, we can obtain a sequence of noise-perturbed distributions that converge to the true data distribution.\n",
    "\n",
    "<br>\n",
    "\n",
    "Conditional perturbation distribution according to the step ($i$) is:\n",
    "$$ q_{\\sigma_{i}}(\\tilde{x} \\vert x)=\\mathcal{N}(\\tilde{x} \\vert x, \\sigma_{i}^2\\mathbf{I}). \\ \\ \\text{In other word},\\ \\ \\ \\tilde{x}=x+\\sigma_{i}*z,\\ \\ where\\ \\ z\\sim\\mathcal{N}(0, \\mathbf{I})\\ \\ \\text{and}\\ \\ \\frac{\\sigma_{1}}{\\sigma_{2}}=\\frac{\\sigma_{2}}{\\sigma_{3}}=\\cdots=\\frac{\\sigma_{L-1}}{\\sigma_{L}} > 1$$\n",
    "<br>\n",
    "<br>\n",
    "\n",
    "And, we defined a score model depend on sigmas.\n",
    "$$ \\mathbf{s}_{\\theta}(\\tilde{x}, \\sigma_i) \\approx \\nabla_{\\tilde{x}} \\log{q_{\\sigma_i} }(\\tilde{x}\\vert{x})$$\n",
    "<br>\n",
    "<br>\n",
    "\n",
    "If perturbation distributsions were defined by sigmas, then the score of perturbation distribution is:\n",
    "$$ \\nabla_{\\tilde{x}}\\log q_{\\sigma_i}(\\tilde{x}\\vert{x})=-\\frac{(\\tilde{x}-x)}{\\sigma_i^2}=-\\frac{z}{\\sigma_i} $$\n",
    "<br>\n",
    "<br>\n",
    "\n",
    "Then, we can use the objective function for noise conditional score network via score matching.\n",
    "\n",
    "$$ \\mathcal{L}(\\theta, \\{ \\sigma_{i}\\}_{i=1}^L)=\\frac{1}{L}\\sum_{i=1}^L\\lambda({\\sigma_i})\\mathcal{l}(\\theta;\\sigma_i),\\ \\ \\ \n",
    "where\\ \\ \\ \\mathcal{l}(\\theta;\\sigma_i)=\\frac{1}{2}\\mathbb{E}_{p_{data}(x)}\\mathbb{E}_{\\tilde{x}\\sim\\mathcal{N}(x,\\sigma_i^2\\mathbf{I})}[\\Vert \\mathbf{s}_{\\theta}(\\tilde{x}, \\sigma_i)+\\frac{\\tilde{x}-x}{\\sigma_i^2}\\Vert^2_2]\n",
    "$$"
   ]
  },
  {
   "cell_type": "markdown",
   "id": "printable-digit",
   "metadata": {
    "id": "printable-digit"
   },
   "source": [
    "# Define Model From \n",
    "\n",
    "$\\href{https://github.com/ermongroup/ncsn/}{NCSN\\ GitHub}$"
   ]
  },
  {
   "cell_type": "markdown",
   "id": "HPInI4n2IHYG",
   "metadata": {
    "id": "HPInI4n2IHYG"
   },
   "source": [
    "## Backbone"
   ]
  },
  {
   "cell_type": "code",
   "execution_count": 2,
   "id": "IXNcjGtS5Xvg",
   "metadata": {
    "execution": {
     "iopub.execute_input": "2024-12-17T10:24:25.480309Z",
     "iopub.status.busy": "2024-12-17T10:24:25.480015Z",
     "iopub.status.idle": "2024-12-17T10:24:29.245080Z",
     "shell.execute_reply": "2024-12-17T10:24:29.243201Z",
     "shell.execute_reply.started": "2024-12-17T10:24:25.480280Z"
    },
    "id": "IXNcjGtS5Xvg",
    "trusted": true
   },
   "outputs": [
    {
     "name": "stderr",
     "output_type": "stream",
     "text": [
      "/tmp/ipykernel_23/3718594867.py:8: DeprecationWarning: Please import `rotate` from the `scipy.ndimage` namespace; the `scipy.ndimage.interpolation` namespace is deprecated and will be removed in SciPy 2.0.0.\n",
      "  from scipy.ndimage.interpolation import rotate\n"
     ]
    }
   ],
   "source": [
    "import torch\n",
    "import torch.nn as nn\n",
    "import torchvision\n",
    "\n",
    "import math\n",
    "import matplotlib.pyplot as plt\n",
    "import matplotlib.animation as animation\n",
    "from scipy.ndimage.interpolation import rotate\n",
    "import numpy as np\n",
    "\n",
    "from IPython.display import HTML\n",
    "from IPython.display import clear_output\n",
    "import torch.nn as nn\n",
    "import torch.nn.functional as F\n",
    "import torch\n",
    "from functools import partial\n"
   ]
  },
  {
   "cell_type": "code",
   "execution_count": 3,
   "id": "amateur-wilson",
   "metadata": {
    "execution": {
     "iopub.execute_input": "2024-12-17T10:24:29.246960Z",
     "iopub.status.busy": "2024-12-17T10:24:29.246543Z",
     "iopub.status.idle": "2024-12-17T10:24:29.420559Z",
     "shell.execute_reply": "2024-12-17T10:24:29.419701Z",
     "shell.execute_reply.started": "2024-12-17T10:24:29.246924Z"
    },
    "id": "amateur-wilson",
    "trusted": true
   },
   "outputs": [],
   "source": [
    "def conv3x3(in_planes, out_planes, stride=1, bias=False):\n",
    "    \"3x3 convolution with padding\"\n",
    "    return nn.Conv2d(in_planes, out_planes, kernel_size=3, stride=stride,\n",
    "                     padding=1, bias=bias)\n",
    "\n",
    "\n",
    "def conv1x1(in_planes, out_planes, stride=1, bias=False):\n",
    "    \"1x1 convolution\"\n",
    "    return nn.Conv2d(in_planes, out_planes, kernel_size=1, stride=stride,\n",
    "                     padding=0, bias=bias)\n",
    "\n",
    "\n",
    "def dilated_conv3x3(in_planes, out_planes, dilation, bias=True):\n",
    "    return nn.Conv2d(in_planes, out_planes, kernel_size=3, padding=dilation, dilation=dilation, bias=bias)\n",
    "\n",
    "\n",
    "class ConditionalBatchNorm2d(nn.Module):\n",
    "    def __init__(self, num_features, num_classes, bias=True):\n",
    "        super().__init__()\n",
    "        self.num_features = num_features\n",
    "        self.bias = bias\n",
    "        self.bn = nn.BatchNorm2d(num_features, affine=False)\n",
    "        if self.bias:\n",
    "            self.embed = nn.Embedding(num_classes, num_features * 2)\n",
    "            self.embed.weight.data[:, :num_features].uniform_()  # Initialise scale at N(1, 0.02)\n",
    "            self.embed.weight.data[:, num_features:].zero_()  # Initialise bias at 0\n",
    "        else:\n",
    "            self.embed = nn.Embedding(num_classes, num_features)\n",
    "            self.embed.weight.data.uniform_()\n",
    "\n",
    "    def forward(self, x, y):\n",
    "        out = self.bn(x)\n",
    "        if self.bias:\n",
    "            gamma, beta = self.embed(y).chunk(2, dim=1)\n",
    "            out = gamma.view(-1, self.num_features, 1, 1) * out + beta.view(-1, self.num_features, 1, 1)\n",
    "        else:\n",
    "            gamma = self.embed(y)\n",
    "            out = gamma.view(-1, self.num_features, 1, 1) * out\n",
    "        return out\n",
    "\n",
    "\n",
    "class ConditionalInstanceNorm2d(nn.Module):\n",
    "    def __init__(self, num_features, num_classes, bias=True):\n",
    "        super().__init__()\n",
    "        self.num_features = num_features\n",
    "        self.bias = bias\n",
    "        self.instance_norm = nn.InstanceNorm2d(num_features, affine=False, track_running_stats=False)\n",
    "        if bias:\n",
    "            self.embed = nn.Embedding(num_classes, num_features * 2)\n",
    "            self.embed.weight.data[:, :num_features].uniform_()  # Initialise scale at N(1, 0.02)\n",
    "            self.embed.weight.data[:, num_features:].zero_()  # Initialise bias at 0\n",
    "        else:\n",
    "            self.embed = nn.Embedding(num_classes, num_features)\n",
    "            self.embed.weight.data.uniform_()\n",
    "\n",
    "    def forward(self, x, y):\n",
    "        h = self.instance_norm(x)\n",
    "        if self.bias:\n",
    "            gamma, beta = self.embed(y).chunk(2, dim=-1)\n",
    "            out = gamma.view(-1, self.num_features, 1, 1) * h + beta.view(-1, self.num_features, 1, 1)\n",
    "        else:\n",
    "            gamma = self.embed(y)\n",
    "            out = gamma.view(-1, self.num_features, 1, 1) * h\n",
    "        return out\n",
    "\n",
    "\n",
    "class CRPBlock(nn.Module):\n",
    "    def __init__(self, features, n_stages, act=nn.ReLU()):\n",
    "        super().__init__()\n",
    "        self.convs = nn.ModuleList()\n",
    "        for i in range(n_stages):\n",
    "            self.convs.append(conv3x3(features, features, stride=1, bias=False))\n",
    "        self.n_stages = n_stages\n",
    "        self.maxpool = nn.MaxPool2d(kernel_size=5, stride=1, padding=2)\n",
    "        self.act = act\n",
    "\n",
    "    def forward(self, x):\n",
    "        x = self.act(x)\n",
    "        path = x\n",
    "        for i in range(self.n_stages):\n",
    "            path = self.maxpool(path)\n",
    "            path = self.convs[i](path)\n",
    "            x = path + x\n",
    "        return x\n",
    "\n",
    "\n",
    "class CondCRPBlock(nn.Module):\n",
    "    def __init__(self, features, n_stages, num_classes, normalizer, act=nn.ReLU()):\n",
    "        super().__init__()\n",
    "        self.convs = nn.ModuleList()\n",
    "        self.norms = nn.ModuleList()\n",
    "        for i in range(n_stages):\n",
    "            self.norms.append(normalizer(features, num_classes, bias=True))\n",
    "            self.convs.append(conv3x3(features, features, stride=1, bias=False))\n",
    "        self.n_stages = n_stages\n",
    "        self.maxpool = nn.AvgPool2d(kernel_size=5, stride=1, padding=2)\n",
    "        self.act = act\n",
    "\n",
    "    def forward(self, x, y):\n",
    "        x = self.act(x)\n",
    "        path = x\n",
    "        for i in range(self.n_stages):\n",
    "            path = self.norms[i](path, y)\n",
    "            path = self.maxpool(path)\n",
    "            path = self.convs[i](path)\n",
    "            x = path + x\n",
    "        return x\n",
    "\n",
    "\n",
    "class CondRCUBlock(nn.Module):\n",
    "    def __init__(self, features, n_blocks, n_stages, num_classes, normalizer, act=nn.ReLU()):\n",
    "        super().__init__()\n",
    "\n",
    "        for i in range(n_blocks):\n",
    "            for j in range(n_stages):\n",
    "                setattr(self, '{}_{}_norm'.format(i + 1, j + 1), normalizer(features, num_classes, bias=True))\n",
    "                setattr(self, '{}_{}_conv'.format(i + 1, j + 1),\n",
    "                        conv3x3(features, features, stride=1, bias=False))\n",
    "\n",
    "        self.stride = 1\n",
    "        self.n_blocks = n_blocks\n",
    "        self.n_stages = n_stages\n",
    "        self.act = act\n",
    "\n",
    "    def forward(self, x, y):\n",
    "        for i in range(self.n_blocks):\n",
    "            residual = x\n",
    "            for j in range(self.n_stages):\n",
    "                x = getattr(self, '{}_{}_norm'.format(i + 1, j + 1))(x, y)\n",
    "                x = self.act(x)\n",
    "                x = getattr(self, '{}_{}_conv'.format(i + 1, j + 1))(x)\n",
    "            x += residual\n",
    "        return x\n",
    "\n",
    "\n",
    "class CondMSFBlock(nn.Module):\n",
    "    def __init__(self, in_planes, features, num_classes, normalizer):\n",
    "        \"\"\"\n",
    "        :param in_planes: tuples of input planes\n",
    "        \"\"\"\n",
    "        super().__init__()\n",
    "        assert isinstance(in_planes, list) or isinstance(in_planes, tuple)\n",
    "\n",
    "        self.convs = nn.ModuleList()\n",
    "        self.norms = nn.ModuleList()\n",
    "        self.features = features\n",
    "\n",
    "        for i in range(len(in_planes)):\n",
    "            self.convs.append(conv3x3(in_planes[i], features, stride=1, bias=True))\n",
    "            self.norms.append(normalizer(in_planes[i], num_classes, bias=True))\n",
    "\n",
    "    def forward(self, xs, y, shape):\n",
    "        sums = torch.zeros(xs[0].shape[0], self.features, *shape, device=xs[0].device)\n",
    "        for i in range(len(self.convs)):\n",
    "            h = self.norms[i](xs[i], y)\n",
    "            h = self.convs[i](h)\n",
    "            h = F.interpolate(h, size=shape, mode='bilinear', align_corners=True)\n",
    "            sums += h\n",
    "        return sums\n",
    "\n",
    "\n",
    "class CondRefineBlock(nn.Module):\n",
    "    def __init__(self, in_planes, features, num_classes, normalizer, act=nn.ReLU(), start=False, end=False):\n",
    "        super().__init__()\n",
    "\n",
    "        assert isinstance(in_planes, tuple) or isinstance(in_planes, list)\n",
    "        self.n_blocks = n_blocks = len(in_planes)\n",
    "\n",
    "        self.adapt_convs = nn.ModuleList()\n",
    "        for i in range(n_blocks):\n",
    "            self.adapt_convs.append(\n",
    "                CondRCUBlock(in_planes[i], 2, 2, num_classes, normalizer, act)\n",
    "            )\n",
    "\n",
    "        self.output_convs = CondRCUBlock(features, 3 if end else 1, 2, num_classes, normalizer, act)\n",
    "\n",
    "        if not start:\n",
    "            self.msf = CondMSFBlock(in_planes, features, num_classes, normalizer)\n",
    "\n",
    "        self.crp = CondCRPBlock(features, 2, num_classes, normalizer, act)\n",
    "\n",
    "    def forward(self, xs, y, output_shape):\n",
    "        assert isinstance(xs, tuple) or isinstance(xs, list)\n",
    "        hs = []\n",
    "        for i in range(len(xs)):\n",
    "            h = self.adapt_convs[i](xs[i], y)\n",
    "            hs.append(h)\n",
    "\n",
    "        if self.n_blocks > 1:\n",
    "            h = self.msf(hs, y, output_shape)\n",
    "        else:\n",
    "            h = hs[0]\n",
    "\n",
    "        h = self.crp(h, y)\n",
    "        h = self.output_convs(h, y)\n",
    "\n",
    "        return h\n",
    "\n",
    "\n",
    "class ConvMeanPool(nn.Module):\n",
    "    def __init__(self, input_dim, output_dim, kernel_size=3, biases=True, adjust_padding=False):\n",
    "        super().__init__()\n",
    "        if not adjust_padding:\n",
    "            self.conv = nn.Conv2d(input_dim, output_dim, kernel_size, stride=1, padding=kernel_size // 2, bias=biases)\n",
    "        else:\n",
    "            self.conv = nn.Sequential(\n",
    "                nn.ZeroPad2d((1, 0, 1, 0)),\n",
    "                nn.Conv2d(input_dim, output_dim, kernel_size, stride=1, padding=kernel_size // 2, bias=biases)\n",
    "            )\n",
    "\n",
    "    def forward(self, inputs):\n",
    "        output = self.conv(inputs)\n",
    "        output = sum(\n",
    "            [output[:, :, ::2, ::2], output[:, :, 1::2, ::2], output[:, :, ::2, 1::2], output[:, :, 1::2, 1::2]]) / 4.\n",
    "        return output\n",
    "\n",
    "\n",
    "class MeanPoolConv(nn.Module):\n",
    "    def __init__(self, input_dim, output_dim, kernel_size=3, biases=True):\n",
    "        super().__init__()\n",
    "        self.conv = nn.Conv2d(input_dim, output_dim, kernel_size, stride=1, padding=kernel_size // 2, bias=biases)\n",
    "\n",
    "    def forward(self, inputs):\n",
    "        output = inputs\n",
    "        output = sum(\n",
    "            [output[:, :, ::2, ::2], output[:, :, 1::2, ::2], output[:, :, ::2, 1::2], output[:, :, 1::2, 1::2]]) / 4.\n",
    "        return self.conv(output)\n",
    "\n",
    "\n",
    "class UpsampleConv(nn.Module):\n",
    "    def __init__(self, input_dim, output_dim, kernel_size=3, biases=True):\n",
    "        super().__init__()\n",
    "        self.conv = nn.Conv2d(input_dim, output_dim, kernel_size, stride=1, padding=kernel_size // 2, bias=biases)\n",
    "        self.pixelshuffle = nn.PixelShuffle(upscale_factor=2)\n",
    "\n",
    "    def forward(self, inputs):\n",
    "        output = inputs\n",
    "        output = torch.cat([output, output, output, output], dim=1)\n",
    "        output = self.pixelshuffle(output)\n",
    "        return self.conv(output)\n",
    "\n",
    "\n",
    "class ConditionalResidualBlock(nn.Module):\n",
    "    def __init__(self, input_dim, output_dim, num_classes, resample=None, act=nn.ELU(),\n",
    "                 normalization=ConditionalBatchNorm2d, adjust_padding=False, dilation=None):\n",
    "        super().__init__()\n",
    "        self.non_linearity = act\n",
    "        self.input_dim = input_dim\n",
    "        self.output_dim = output_dim\n",
    "        self.resample = resample\n",
    "        if resample == 'down':\n",
    "            if dilation is not None:\n",
    "                self.conv1 = dilated_conv3x3(input_dim, input_dim, dilation=dilation)\n",
    "                self.normalize2 = normalization(input_dim, num_classes)\n",
    "                self.conv2 = dilated_conv3x3(input_dim, output_dim, dilation=dilation)\n",
    "                conv_shortcut = partial(dilated_conv3x3, dilation=dilation)\n",
    "            else:\n",
    "                self.conv1 = nn.Conv2d(input_dim, input_dim, 3, stride=1, padding=1)\n",
    "                self.normalize2 = normalization(input_dim, num_classes)\n",
    "                self.conv2 = ConvMeanPool(input_dim, output_dim, 3, adjust_padding=adjust_padding)\n",
    "                conv_shortcut = partial(ConvMeanPool, kernel_size=1, adjust_padding=adjust_padding)\n",
    "\n",
    "        elif resample is None:\n",
    "            if dilation is not None:\n",
    "                conv_shortcut = partial(dilated_conv3x3, dilation=dilation)\n",
    "                self.conv1 = dilated_conv3x3(input_dim, output_dim, dilation=dilation)\n",
    "                self.normalize2 = normalization(output_dim, num_classes)\n",
    "                self.conv2 = dilated_conv3x3(output_dim, output_dim, dilation=dilation)\n",
    "            else:\n",
    "                conv_shortcut = nn.Conv2d\n",
    "                self.conv1 = nn.Conv2d(input_dim, output_dim, kernel_size=3, stride=1, padding=1)\n",
    "                self.normalize2 = normalization(output_dim, num_classes)\n",
    "                self.conv2 = nn.Conv2d(output_dim, output_dim, kernel_size=3, stride=1, padding=1)\n",
    "        else:\n",
    "            raise Exception('invalid resample value')\n",
    "\n",
    "        if output_dim != input_dim or resample is not None:\n",
    "            self.shortcut = conv_shortcut(input_dim, output_dim)\n",
    "\n",
    "        self.normalize1 = normalization(input_dim, num_classes)\n",
    "\n",
    "    def forward(self, x, y):\n",
    "        output = self.normalize1(x, y)\n",
    "        output = self.non_linearity(output)\n",
    "        output = self.conv1(output)\n",
    "        output = self.normalize2(output, y)\n",
    "        output = self.non_linearity(output)\n",
    "        output = self.conv2(output)\n",
    "\n",
    "        if self.output_dim == self.input_dim and self.resample is None:\n",
    "            shortcut = x\n",
    "        else:\n",
    "            shortcut = self.shortcut(x)\n",
    "\n",
    "        return shortcut + output\n",
    "\n",
    "\n",
    "class ConditionalInstanceNorm2dPlus(nn.Module):\n",
    "    def __init__(self, num_features, num_classes, bias=True):\n",
    "        super().__init__()\n",
    "        self.num_features = num_features\n",
    "        self.bias = bias\n",
    "        self.instance_norm = nn.InstanceNorm2d(num_features, affine=False, track_running_stats=False)\n",
    "        if bias:\n",
    "            self.embed = nn.Embedding(num_classes, num_features * 3)\n",
    "            self.embed.weight.data[:, :2 * num_features].normal_(1, 0.02)  # Initialise scale at N(1, 0.02)\n",
    "            self.embed.weight.data[:, 2 * num_features:].zero_()  # Initialise bias at 0\n",
    "        else:\n",
    "            self.embed = nn.Embedding(num_classes, 2 * num_features)\n",
    "            self.embed.weight.data.normal_(1, 0.02)\n",
    "\n",
    "    def forward(self, x, y):\n",
    "        means = torch.mean(x, dim=(2, 3))\n",
    "        m = torch.mean(means, dim=-1, keepdim=True)\n",
    "        v = torch.var(means, dim=-1, keepdim=True)\n",
    "        means = (means - m) / (torch.sqrt(v + 1e-5))\n",
    "        h = self.instance_norm(x)\n",
    "\n",
    "        if self.bias:\n",
    "            gamma, alpha, beta = self.embed(y).chunk(3, dim=-1)\n",
    "            h = h + means[..., None, None] * alpha[..., None, None]\n",
    "            out = gamma.view(-1, self.num_features, 1, 1) * h + beta.view(-1, self.num_features, 1, 1)\n",
    "        else:\n",
    "            gamma, alpha = self.embed(y).chunk(2, dim=-1)\n",
    "            h = h + means[..., None, None] * alpha[..., None, None]\n",
    "            out = gamma.view(-1, self.num_features, 1, 1) * h\n",
    "        return out\n",
    "\n",
    "\n",
    "class CondRefineNetDilated(nn.Module):\n",
    "    def __init__(self,  device, L):\n",
    "        super().__init__()\n",
    "        # self.norm = ConditionalInstanceNorm2d\n",
    "        self.norm = ConditionalInstanceNorm2dPlus\n",
    "        self.ngf = 64\n",
    "        self.num_classes = L\n",
    "        self.act = act = nn.ELU()\n",
    "        self.device = device\n",
    "        # self.act = act = nn.ReLU(True)\n",
    "\n",
    "        self.begin_conv = nn.Conv2d(1, self.ngf, 3, stride=1, padding=1)\n",
    "        self.normalizer = self.norm(self.ngf, self.num_classes)\n",
    "\n",
    "        self.end_conv = nn.Conv2d(self.ngf, 1, 3, stride=1, padding=1)\n",
    "\n",
    "        self.res1 = nn.ModuleList([\n",
    "            ConditionalResidualBlock(self.ngf, self.ngf, self.num_classes, resample=None, act=act,\n",
    "                                     normalization=self.norm),\n",
    "            ConditionalResidualBlock(self.ngf, self.ngf, self.num_classes, resample=None, act=act,\n",
    "                                     normalization=self.norm)]\n",
    "        )\n",
    "\n",
    "        self.res2 = nn.ModuleList([\n",
    "            ConditionalResidualBlock(self.ngf, 2 * self.ngf, self.num_classes, resample='down', act=act,\n",
    "                                     normalization=self.norm),\n",
    "            ConditionalResidualBlock(2 * self.ngf, 2 * self.ngf, self.num_classes, resample=None, act=act,\n",
    "                                     normalization=self.norm)]\n",
    "        )\n",
    "\n",
    "        self.res3 = nn.ModuleList([\n",
    "            ConditionalResidualBlock(2 * self.ngf, 2 * self.ngf, self.num_classes, resample='down', act=act,\n",
    "                                     normalization=self.norm, dilation=2),\n",
    "            ConditionalResidualBlock(2 * self.ngf, 2 * self.ngf, self.num_classes, resample=None, act=act,\n",
    "                                     normalization=self.norm, dilation=2)]\n",
    "        )\n",
    "\n",
    "        self.res4 = nn.ModuleList([\n",
    "            ConditionalResidualBlock(2 * self.ngf, 2 * self.ngf, self.num_classes, resample='down', act=act,\n",
    "                                     normalization=self.norm, adjust_padding=True, dilation=4),\n",
    "            ConditionalResidualBlock(2 * self.ngf, 2 * self.ngf, self.num_classes, resample=None, act=act,\n",
    "                                     normalization=self.norm, dilation=4)]\n",
    "        )\n",
    "\n",
    "\n",
    "        self.refine1 = CondRefineBlock([2 * self.ngf], 2 * self.ngf, self.num_classes, self.norm, act=act, start=True)\n",
    "        self.refine2 = CondRefineBlock([2 * self.ngf, 2 * self.ngf], 2 * self.ngf, self.num_classes, self.norm, act=act)\n",
    "        self.refine3 = CondRefineBlock([2 * self.ngf, 2 * self.ngf], self.ngf, self.num_classes, self.norm, act=act)\n",
    "        self.refine4 = CondRefineBlock([self.ngf, self.ngf], self.ngf, self.num_classes, self.norm, act=act, end=True)\n",
    "        \n",
    "        self.to(device = device)\n",
    "\n",
    "    def _compute_cond_module(self, module, x, y):\n",
    "        for m in module:\n",
    "            x = m(x, y)\n",
    "        return x\n",
    "\n",
    "    def forward(self, x, y):\n",
    "        output = self.begin_conv(x)\n",
    "\n",
    "        layer1 = self._compute_cond_module(self.res1, output, y)\n",
    "        layer2 = self._compute_cond_module(self.res2, layer1, y)\n",
    "        layer3 = self._compute_cond_module(self.res3, layer2, y)\n",
    "        layer4 = self._compute_cond_module(self.res4, layer3, y)\n",
    "\n",
    "        ref1 = self.refine1([layer4], y, layer4.shape[2:])\n",
    "        ref2 = self.refine2([layer3, ref1], y, layer3.shape[2:])\n",
    "        ref3 = self.refine3([layer2, ref2], y, layer2.shape[2:])\n",
    "        output = self.refine4([layer1, ref3], y, layer1.shape[2:])\n",
    "\n",
    "        output = self.normalizer(output, y)\n",
    "        output = self.act(output)\n",
    "        output = self.end_conv(output)\n",
    "        return output\n",
    "\n"
   ]
  },
  {
   "cell_type": "markdown",
   "id": "m8nq3PssILnq",
   "metadata": {
    "id": "m8nq3PssILnq"
   },
   "source": [
    "## Score Network"
   ]
  },
  {
   "cell_type": "code",
   "execution_count": 4,
   "id": "owned-quality",
   "metadata": {
    "execution": {
     "iopub.execute_input": "2024-12-17T10:24:30.872017Z",
     "iopub.status.busy": "2024-12-17T10:24:30.871693Z",
     "iopub.status.idle": "2024-12-17T10:24:30.881257Z",
     "shell.execute_reply": "2024-12-17T10:24:30.880314Z",
     "shell.execute_reply.started": "2024-12-17T10:24:30.871989Z"
    },
    "id": "owned-quality",
    "trusted": true
   },
   "outputs": [],
   "source": [
    "class Model(nn.Module):\n",
    "    def __init__(self, device, n_steps, sigma_min, sigma_max):\n",
    "        '''\n",
    "        Score Network.\n",
    "\n",
    "        n_steps   : perturbation schedule steps (Langevin Dynamic step)\n",
    "        sigma_min : sigma min of perturbation schedule\n",
    "        sigma_min : sigma max of perturbation schedule\n",
    "\n",
    "        '''\n",
    "        super().__init__()\n",
    "        self.device = device\n",
    "        self.sigmas = torch.exp(torch.linspace(start=math.log(sigma_max), end=math.log(sigma_min), steps = n_steps)).to(device = device)\n",
    "        self.conv_layer = CondRefineNetDilated(device, n_steps)\n",
    "        self.to(device = device)\n",
    "\n",
    "    # Loss Function\n",
    "    def loss_fn(self, x, idx=None):\n",
    "        '''\n",
    "        This function performed when only training phase.\n",
    "\n",
    "        x          : real data if idx==None else perturbation data\n",
    "        idx        : if None (training phase), we perturbed random index. Else (inference phase), it is recommended that you specify.\n",
    "\n",
    "        '''\n",
    "        scores, target, sigma = self.forward(x, idx=idx, get_target=True)\n",
    "        target = target.view(target.shape[0], -1)\n",
    "        scores = scores.view(scores.shape[0], -1)        \n",
    "        losses = torch.square(scores - target).mean(dim=-1) * sigma.squeeze() ** 2\n",
    "        return losses.mean(dim=0)\n",
    "\n",
    "    # S(theta, sigma)\n",
    "    def forward(self, x, idx=None, get_target=False):\n",
    "        '''\n",
    "        x          : real data if idx==None else perturbation data\n",
    "        idx        : if None (training phase), we perturbed random index. Else (inference phase), it is recommended that you specify.\n",
    "        get_target : if True (training phase), target and sigma is returned with output (score prediction)\n",
    "\n",
    "        '''\n",
    "\n",
    "        if idx == None:\n",
    "            idx = torch.randint(0, len(self.sigmas), (x.size(0), 1)).to(device = self.device)\n",
    "            used_sigmas = self.sigmas[idx][:, :, None, None]\n",
    "            noise = torch.randn_like(x)\n",
    "            x_tilde = x + noise * used_sigmas\n",
    "            idx = idx.squeeze()\n",
    "        else:\n",
    "            idx = torch.Tensor([idx for _ in range(x.size(0))]).to(device = self.device).long()\n",
    "            x_tilde = x\n",
    "            \n",
    "        if get_target:\n",
    "            target = - 1 / (used_sigmas ) * noise \n",
    "\n",
    "            \n",
    "        output = self.conv_layer(x_tilde, idx)\n",
    "\n",
    "        return (output, target, used_sigmas) if get_target else output"
   ]
  },
  {
   "cell_type": "markdown",
   "id": "junior-addiction",
   "metadata": {
    "id": "junior-addiction"
   },
   "source": [
    "## Sampling, with annealed Langevin dynamic and annealed HMC\n",
    "\n",
    "* Annealed Langevin dynamic $$\\tilde{x}_{t} = \\tilde{x}_{t-1}+\\frac{\\alpha_{i}}{2}\\nabla_{\\tilde{x}_{t-1}}{\\log}p_{\\sigma_{i}}(\\tilde{x}_{t-1})+\\sqrt{\\alpha_{i}}z_{t}\\ \\ \\text{where, } i\\in [1, L]\\ \\  \\text{and}\\ \\  t\\in[1,T]$$\n",
    "\n",
    "* In HMC we update auxiliary momentum variable and our samples with by leapfrog integration to approximate solution of Hamiltonian equations. Then apply HM acceptance criterion. "
   ]
  },
  {
   "cell_type": "code",
   "execution_count": 5,
   "id": "pretty-willow",
   "metadata": {
    "execution": {
     "iopub.execute_input": "2024-12-17T10:24:38.551951Z",
     "iopub.status.busy": "2024-12-17T10:24:38.551031Z",
     "iopub.status.idle": "2024-12-17T10:24:38.560365Z",
     "shell.execute_reply": "2024-12-17T10:24:38.559463Z",
     "shell.execute_reply.started": "2024-12-17T10:24:38.551914Z"
    },
    "id": "pretty-willow",
    "trusted": true
   },
   "outputs": [],
   "source": [
    "class AnnealedLangevinDynamic():\n",
    "    def __init__(self, sigma_min, sigma_max, n_steps, annealed_step, score_fn, device, eps = 1e-1):\n",
    "        '''\n",
    "        sigma_min : minimum sigmas of perturbation schedule \n",
    "        sigma_max : maximum sigmas of perturbation schedule \n",
    "        L         : iteration step of Langevin dynamic\n",
    "        T         : annelaed step of annealed Langevin dynamic\n",
    "        score_fn  : trained score network\n",
    "        eps       : coefficient of step size\n",
    "        '''\n",
    "        self.process = torch.exp(torch.linspace(start=math.log(sigma_max), end=math.log(sigma_min), steps = n_steps))\n",
    "        self.step_size = eps * (self.process / self.process[-1] ) ** 2\n",
    "        self.score_fn = score_fn\n",
    "        self.annealed_step = annealed_step\n",
    "        self.device = device\n",
    "        \n",
    "    # One iteration of annealed step\n",
    "    def _one_annealed_step_iteration(self, x, idx):\n",
    "        '''\n",
    "        x   : perturbated data\n",
    "        idx : step of perturbation schedule\n",
    "        '''\n",
    "        self.score_fn.eval()\n",
    "        z, step_size = torch.randn_like(x).to(device = self.device), self.step_size[idx]\n",
    "        x = x + 0.5 * step_size * self.score_fn(x, idx) + torch.sqrt(step_size) * z\n",
    "        return x\n",
    "        \n",
    "    # One annealed step\n",
    "    def _one_annealed_step(self, x, idx):\n",
    "        '''\n",
    "        x   : perturbated data\n",
    "        idx : step of perturbation schedule\n",
    "        '''\n",
    "        for _ in range(self.annealed_step):\n",
    "            x = self._one_annealed_step_iteration(x, idx)\n",
    "        return x\n",
    "        \n",
    "    # One Langevin Step\n",
    "    def _one_diffusion_step(self, x):\n",
    "        '''\n",
    "        x   : sampling of prior distribution\n",
    "        '''\n",
    "        for idx in range(len(self.process)):\n",
    "            x = self._one_annealed_step(x, idx)\n",
    "            yield x\n",
    "\n",
    "    @torch.no_grad()\n",
    "    def sampling(self, sampling_number, only_final=False):\n",
    "        '''\n",
    "        only_final : If True, return is an only output of final schedule step \n",
    "        '''\n",
    "        sample = torch.rand([sampling_number, 1, 14, 14]).to(device = self.device)\n",
    "        sampling_list = []\n",
    "        \n",
    "        final = None\n",
    "        for sample in self._one_diffusion_step(sample):\n",
    "            final = sample\n",
    "            if not only_final:\n",
    "                sampling_list.append(final)\n",
    "                \n",
    "\n",
    "        return final if only_final else torch.stack(sampling_list)\n",
    "\n"
   ]
  },
  {
   "cell_type": "code",
   "execution_count": null,
   "id": "8d5f4f77-1316-4ac7-b28b-da488a854c88",
   "metadata": {
    "execution": {
     "iopub.execute_input": "2024-12-17T10:24:40.202116Z",
     "iopub.status.busy": "2024-12-17T10:24:40.201207Z",
     "iopub.status.idle": "2024-12-17T10:24:40.213966Z",
     "shell.execute_reply": "2024-12-17T10:24:40.213074Z",
     "shell.execute_reply.started": "2024-12-17T10:24:40.202066Z"
    },
    "trusted": true
   },
   "outputs": [],
   "source": [
    "class AnnealedHMCDynamic:\n",
    "    def __init__(self, sigma_min, sigma_max, L, T, score_fn, device, eps=1e-1):\n",
    "        '''\n",
    "        sigma_min : minimum sigmas of perturbation schedule\n",
    "        sigma_max : maximum sigmas of perturbation schedule\n",
    "        L         : leapfrog steps for HMC\n",
    "        T         : annealed steps\n",
    "        score_fn  : trained score network\n",
    "        step_size : coefficient of step size for leapfrog integration\n",
    "        device    : computation device (e.g., 'cuda' or 'cpu')\n",
    "        '''\n",
    "\n",
    "        self.process = torch.exp(torch.linspace(start=math.log(sigma_max), end=math.log(sigma_min), steps = n_steps))\n",
    "        self.step_size = eps * (self.process / self.process[-1] ) ** 2\n",
    "        self.leapfrog_steps = L\n",
    "        self.score_fn = score_fn\n",
    "        self.annealed_steps = T\n",
    "        self.device = 'cuda'\n",
    "\n",
    "    def _leapfrog_integration(self, x, p, sigma, idx):\n",
    "        self.score_fn.eval()  # Ensure the score network is in evaluation mode\n",
    "    \n",
    "        # Step size calculation based on temperature \n",
    "        step_size = self.step_size[idx] \n",
    "        for _ in range(self.leapfrog_steps):\n",
    "            # Half-step update for momentum\n",
    "            score = self.score_fn(x, idx) / sigma\n",
    "            p += 0.5 * step_size * score\n",
    "\n",
    "            # Full-step update for position\n",
    "            x += step_size * p\n",
    "\n",
    "            # Another half-step update for momentum\n",
    "            score = self.score_fn(x, idx) / sigma\n",
    "            p += 0.5 * step_size * score\n",
    "\n",
    "        return x, p\n",
    "\n",
    "    def _metropolis_hastings(self, x, p, x_new, p_new, sigma, idx):\n",
    "        '''\n",
    "        Apply Metropolis-Hastings criterion to accept/reject new states.\n",
    "        x, p     : current position and momentum\n",
    "        x_new, p_new : proposed position and momentum\n",
    "        sigma    : current noise level\n",
    "        idx      : step of perturbation schedule\n",
    "        '''\n",
    "\n",
    "        # Compute Hamiltonians (using the provided equation form)\n",
    "        current_score = self.score_fn(x, idx) / sigma\n",
    "        proposed_score = self.score_fn(x_new, idx) / sigma\n",
    "\n",
    "        current_hamiltonian = 0.5 * torch.sum(p ** 2) + 0.5 * torch.sum(current_score ** 2)\n",
    "        proposed_hamiltonian = 0.5 * torch.sum(p_new ** 2) + 0.5 * torch.sum(proposed_score ** 2)\n",
    "\n",
    "        # Compute acceptance probability using the Metropolis-Hastings formula\n",
    "        acceptance_prob = torch.exp(current_hamiltonian - proposed_hamiltonian)\n",
    "        if torch.rand(1).item() < acceptance_prob:\n",
    "            return x_new  \n",
    "        return x  \n",
    "\n",
    "    def _one_annealed_step(self, x, idx):\n",
    "        '''\n",
    "        Perform one step of annealed HMC.\n",
    "        x   : perturbated data\n",
    "        idx : step of perturbation schedule\n",
    "        '''\n",
    "        sigma = self.process[idx]\n",
    "        p = torch.randn_like(x).to(self.device)  # Initialize momentum\n",
    "        x_new, p_new = self._leapfrog_integration(x, p, sigma, idx)\n",
    "        x = self._metropolis_hastings(x, p, x_new, p_new, sigma, idx)\n",
    "        return x\n",
    "\n",
    "    def _one_perturbation_step(self, x):\n",
    "        '''\n",
    "        Perform annealing through all steps of the schedule.\n",
    "        x : initial samples\n",
    "        '''\n",
    "        for idx in range(len(self.process)):\n",
    "            for _ in range(self.annealed_steps):\n",
    "                x = self._one_annealed_step(x, idx)\n",
    "            yield x\n",
    "\n",
    "    @torch.no_grad()\n",
    "    def sampling(self, sampling_number, only_final=True):\n",
    "        '''\n",
    "        Generate samples using Annealed HMC.\n",
    "        sampling_number : Number of samples to generate.\n",
    "        only_final      : If True, return only the final sample.\n",
    "        '''\n",
    "        # Initialize samples from the prior distribution\n",
    "        #sample = (torch.rand([sampling_number, 2]).to(self.device) - 0.5) * 2\n",
    "        sample = torch.rand([sampling_number, 1, 14, 14]).to(device = self.device)\n",
    "        sampling_list = []\n",
    "\n",
    "        final = None\n",
    "        for sample in self._one_perturbation_step(sample):\n",
    "            final = sample\n",
    "            if not only_final:\n",
    "                sampling_list.append(final)\n",
    "\n",
    "        return final if only_final else torch.stack(sampling_list)\n",
    "        \n"
   ]
  },
  {
   "cell_type": "code",
   "execution_count": 7,
   "id": "hairy-station",
   "metadata": {
    "execution": {
     "iopub.execute_input": "2024-12-17T10:24:42.222769Z",
     "iopub.status.busy": "2024-12-17T10:24:42.222429Z",
     "iopub.status.idle": "2024-12-17T10:24:42.230749Z",
     "shell.execute_reply": "2024-12-17T10:24:42.229856Z",
     "shell.execute_reply.started": "2024-12-17T10:24:42.222741Z"
    },
    "id": "hairy-station",
    "trusted": true
   },
   "outputs": [],
   "source": [
    "class AverageMeter(object):\n",
    "    def __init__(self, name, fmt=':f'):\n",
    "        self.name = name\n",
    "        self.fmt = fmt\n",
    "        self.reset()\n",
    "\n",
    "    def reset(self):\n",
    "        self.val = 0\n",
    "        self.avg = 0\n",
    "        self.sum = 0\n",
    "        self.count = 0\n",
    "    \n",
    "    def update(self, val, n=1):\n",
    "        self.val = val\n",
    "        self.sum += val * n\n",
    "        self.count += n\n",
    "        self.avg = self.sum / self.count\n",
    "    \n",
    "    def __str__(self):\n",
    "        fmtstr = '{name} {val' + self.fmt + '} ({avg' + self.fmt + '})'\n",
    "        return fmtstr.format(**self.__dict__)\n",
    "\n",
    "\n",
    "class ProgressMeter(object):\n",
    "    def __init__(self, num_batches, meters, prefix=\"\"):\n",
    "        self.batch_fmtstr = self._get_batch_fmtstr(num_batches)\n",
    "        self.meters = meters\n",
    "        self.prefix = prefix\n",
    "\n",
    "    def display(self, batch):\n",
    "        entries = [self.prefix + self.batch_fmtstr.format(batch)]\n",
    "        entries += [str(meter) for meter in self.meters]\n",
    "        \n",
    "        print('\\r' + '\\t'.join(entries), end = '')\n",
    "\n",
    "    def _get_batch_fmtstr(self, num_batches):\n",
    "        num_digits = len(str(num_batches // 1))\n",
    "        fmt = '{:' + str(num_digits) + 'd}'\n",
    "        return '[' + fmt + '/' + fmt.format(num_batches) + ']'"
   ]
  },
  {
   "cell_type": "code",
   "execution_count": 8,
   "id": "closed-reasoning",
   "metadata": {
    "execution": {
     "iopub.execute_input": "2024-12-17T10:24:44.020952Z",
     "iopub.status.busy": "2024-12-17T10:24:44.020509Z",
     "iopub.status.idle": "2024-12-17T10:24:44.030211Z",
     "shell.execute_reply": "2024-12-17T10:24:44.029138Z",
     "shell.execute_reply.started": "2024-12-17T10:24:44.020906Z"
    },
    "id": "closed-reasoning",
    "trusted": true
   },
   "outputs": [],
   "source": [
    "def imshow(sample, sampling_number = 64):\n",
    "    plt.figure(figsize=(10, 10))\n",
    "    clear_output()\n",
    "    row_number = int(math.sqrt(sampling_number))\n",
    "    col_number = int(math.sqrt(sampling_number))\n",
    "    sample = sample[:sampling_number].detach().cpu().numpy()\n",
    "    shape = sample.shape\n",
    "    show_sample = np.zeros([row_number * shape[2], col_number * shape[3] ]).astype(np.float32)\n",
    "    for row in range(row_number):\n",
    "        for col in range(col_number):\n",
    "            sample_ = sample[row + col * row_number][0]\n",
    "            show_sample[ row * shape[2] : (row+1) * shape[2], col * shape[3] : (col+1) * shape[3] ] = (sample_ - sample_.min()) / (sample_.max() - sample_.min()) * 255\n",
    "            \n",
    "    show_sample = show_sample.astype(np.uint8)\n",
    "    plt.axis(False)\n",
    "    plt.imshow(show_sample, cmap = 'gray')\n",
    "    plt.show()"
   ]
  },
  {
   "cell_type": "markdown",
   "id": "industrial-european",
   "metadata": {
    "id": "industrial-european"
   },
   "source": [
    "# Train Setting"
   ]
  },
  {
   "cell_type": "markdown",
   "id": "6ucbcaRWOV77",
   "metadata": {
    "id": "6ucbcaRWOV77"
   },
   "source": [
    "## Hyperparameter of model and perturbation process\n"
   ]
  },
  {
   "cell_type": "code",
   "execution_count": 9,
   "id": "USwvMnniOXDz",
   "metadata": {
    "execution": {
     "iopub.execute_input": "2024-12-17T10:24:52.662631Z",
     "iopub.status.busy": "2024-12-17T10:24:52.661848Z",
     "iopub.status.idle": "2024-12-17T10:24:52.735231Z",
     "shell.execute_reply": "2024-12-17T10:24:52.734314Z",
     "shell.execute_reply.started": "2024-12-17T10:24:52.662597Z"
    },
    "id": "USwvMnniOXDz",
    "trusted": true
   },
   "outputs": [],
   "source": [
    "# epsilon of step size\n",
    "eps = 1e-4\n",
    "\n",
    "# sigma min and max of Langevin dynamic\n",
    "sigma_min = 0.005\n",
    "sigma_max = 10\n",
    "\n",
    "# Langevin step size and Annealed size\n",
    "n_steps = 10\n",
    "annealed_step = 100\n",
    "\n",
    "device = torch.device('cuda:0') if torch.cuda.is_available() else torch.device('cpu')"
   ]
  },
  {
   "cell_type": "code",
   "execution_count": 10,
   "id": "Lsbyx2H1Ocqi",
   "metadata": {
    "execution": {
     "iopub.execute_input": "2024-12-17T10:26:23.519638Z",
     "iopub.status.busy": "2024-12-17T10:26:23.518995Z",
     "iopub.status.idle": "2024-12-17T10:26:23.900450Z",
     "shell.execute_reply": "2024-12-17T10:26:23.899414Z",
     "shell.execute_reply.started": "2024-12-17T10:26:23.519602Z"
    },
    "id": "Lsbyx2H1Ocqi",
    "trusted": true
   },
   "outputs": [],
   "source": [
    "device = torch.device('cuda:0') if torch.cuda.is_available() else torch.device('cpu')\n",
    "model = Model(device, n_steps, sigma_min, sigma_max)\n",
    "optim = torch.optim.Adam(model.parameters(), lr = 0.005)\n",
    "#dynamic = AnnealedLangevinDynamic(sigma_min, sigma_max, n_steps, annealed_step, model, device, eps=eps)\n",
    "#dynamic =  AnnealedHMCDynamic(sigma_min, sigma_max, n_steps, leapfrog_steps, model, device, step_lr=0.1)\n",
    "dynamic = AnnealedHMCDynamic(sigma_min=0.01, sigma_max=1.0, L=10, T=20, score_fn=model, device='cuda', eps=eps)"
   ]
  },
  {
   "cell_type": "markdown",
   "id": "OkXQPnE0OoHo",
   "metadata": {
    "id": "OkXQPnE0OoHo"
   },
   "source": [
    "## Hyperparameter of Training "
   ]
  },
  {
   "cell_type": "code",
   "execution_count": 11,
   "id": "T_bHrz8pOdLc",
   "metadata": {
    "execution": {
     "iopub.execute_input": "2024-12-17T10:26:26.198407Z",
     "iopub.status.busy": "2024-12-17T10:26:26.197815Z",
     "iopub.status.idle": "2024-12-17T10:26:28.964636Z",
     "shell.execute_reply": "2024-12-17T10:26:28.963717Z",
     "shell.execute_reply.started": "2024-12-17T10:26:26.198355Z"
    },
    "id": "T_bHrz8pOdLc",
    "trusted": true
   },
   "outputs": [
    {
     "name": "stdout",
     "output_type": "stream",
     "text": [
      "Downloading http://yann.lecun.com/exdb/mnist/train-images-idx3-ubyte.gz\n",
      "Failed to download (trying next):\n",
      "HTTP Error 403: Forbidden\n",
      "\n",
      "Downloading https://ossci-datasets.s3.amazonaws.com/mnist/train-images-idx3-ubyte.gz\n",
      "Downloading https://ossci-datasets.s3.amazonaws.com/mnist/train-images-idx3-ubyte.gz to ./MNIST/MNIST/raw/train-images-idx3-ubyte.gz\n"
     ]
    },
    {
     "name": "stderr",
     "output_type": "stream",
     "text": [
      "100%|██████████| 9912422/9912422 [00:00<00:00, 42578825.80it/s]\n"
     ]
    },
    {
     "name": "stdout",
     "output_type": "stream",
     "text": [
      "Extracting ./MNIST/MNIST/raw/train-images-idx3-ubyte.gz to ./MNIST/MNIST/raw\n",
      "\n",
      "Downloading http://yann.lecun.com/exdb/mnist/train-labels-idx1-ubyte.gz\n",
      "Failed to download (trying next):\n",
      "HTTP Error 403: Forbidden\n",
      "\n",
      "Downloading https://ossci-datasets.s3.amazonaws.com/mnist/train-labels-idx1-ubyte.gz\n",
      "Downloading https://ossci-datasets.s3.amazonaws.com/mnist/train-labels-idx1-ubyte.gz to ./MNIST/MNIST/raw/train-labels-idx1-ubyte.gz\n"
     ]
    },
    {
     "name": "stderr",
     "output_type": "stream",
     "text": [
      "100%|██████████| 28881/28881 [00:00<00:00, 1119532.85it/s]\n"
     ]
    },
    {
     "name": "stdout",
     "output_type": "stream",
     "text": [
      "Extracting ./MNIST/MNIST/raw/train-labels-idx1-ubyte.gz to ./MNIST/MNIST/raw\n",
      "\n",
      "Downloading http://yann.lecun.com/exdb/mnist/t10k-images-idx3-ubyte.gz\n",
      "Failed to download (trying next):\n",
      "HTTP Error 403: Forbidden\n",
      "\n",
      "Downloading https://ossci-datasets.s3.amazonaws.com/mnist/t10k-images-idx3-ubyte.gz\n",
      "Downloading https://ossci-datasets.s3.amazonaws.com/mnist/t10k-images-idx3-ubyte.gz to ./MNIST/MNIST/raw/t10k-images-idx3-ubyte.gz\n"
     ]
    },
    {
     "name": "stderr",
     "output_type": "stream",
     "text": [
      "100%|██████████| 1648877/1648877 [00:00<00:00, 10532386.37it/s]\n"
     ]
    },
    {
     "name": "stdout",
     "output_type": "stream",
     "text": [
      "Extracting ./MNIST/MNIST/raw/t10k-images-idx3-ubyte.gz to ./MNIST/MNIST/raw\n",
      "\n",
      "Downloading http://yann.lecun.com/exdb/mnist/t10k-labels-idx1-ubyte.gz\n",
      "Failed to download (trying next):\n",
      "HTTP Error 403: Forbidden\n",
      "\n",
      "Downloading https://ossci-datasets.s3.amazonaws.com/mnist/t10k-labels-idx1-ubyte.gz\n",
      "Downloading https://ossci-datasets.s3.amazonaws.com/mnist/t10k-labels-idx1-ubyte.gz to ./MNIST/MNIST/raw/t10k-labels-idx1-ubyte.gz\n"
     ]
    },
    {
     "name": "stderr",
     "output_type": "stream",
     "text": [
      "100%|██████████| 4542/4542 [00:00<00:00, 3082111.11it/s]"
     ]
    },
    {
     "name": "stdout",
     "output_type": "stream",
     "text": [
      "Extracting ./MNIST/MNIST/raw/t10k-labels-idx1-ubyte.gz to ./MNIST/MNIST/raw\n",
      "\n"
     ]
    },
    {
     "name": "stderr",
     "output_type": "stream",
     "text": [
      "\n"
     ]
    }
   ],
   "source": [
    "transform = torchvision.transforms.Compose([\n",
    "    torchvision.transforms.Resize((14, 14)),\n",
    "    torchvision.transforms.ToTensor()\n",
    "])\n",
    "dataset = torchvision.datasets.MNIST(root = './MNIST', train=True, download=True, transform = transform)\n",
    "dataloader = torch.utils.data.DataLoader(dataset, batch_size = 256, drop_last = True)\n",
    "dataiterator = iter(dataloader)\n"
   ]
  },
  {
   "cell_type": "code",
   "execution_count": null,
   "id": "gross-shopper",
   "metadata": {
    "execution": {
     "iopub.execute_input": "2024-12-17T10:46:44.704640Z",
     "iopub.status.busy": "2024-12-17T10:46:44.703701Z",
     "iopub.status.idle": "2024-12-17T10:46:44.710467Z",
     "shell.execute_reply": "2024-12-17T10:46:44.709417Z",
     "shell.execute_reply.started": "2024-12-17T10:46:44.704589Z"
    },
    "id": "gross-shopper",
    "trusted": true
   },
   "outputs": [],
   "source": [
    "total_iteration = 10000\n",
    "current_iteration = 0\n",
    "display_iteration = 100\n",
    "sampling_number = 16\n",
    "device = torch.device('cuda:0') if torch.cuda.is_available() else torch.device('cpu')\n",
    "only_final = True\n",
    "\n",
    "\n",
    "losses = AverageMeter('Loss', ':.4f')\n",
    "progress = ProgressMeter(total_iteration, [losses], prefix='Iteration ')"
   ]
  },
  {
   "cell_type": "code",
   "execution_count": null,
   "id": "b6de313a",
   "metadata": {},
   "outputs": [],
   "source": [
    "import torch\n",
    "from torchvision import utils\n",
    "from PIL import Image\n",
    "import time\n",
    "def save_image(im,name):\n",
    "    normalized = im-torch.min(im)\n",
    "    normalized = normalized/torch.max(normalized)\n",
    "    utils.save_image(normalized,name)\n",
    "#save_image(im,name)"
   ]
  },
  {
   "cell_type": "markdown",
   "id": "worthy-newark",
   "metadata": {
    "id": "worthy-newark"
   },
   "source": [
    "## Training Phase"
   ]
  },
  {
   "cell_type": "code",
   "execution_count": null,
   "id": "2805ec3c-8096-456e-8465-3a6ecebbd093",
   "metadata": {
    "execution": {
     "iopub.execute_input": "2024-12-17T10:46:55.260120Z",
     "iopub.status.busy": "2024-12-17T10:46:55.259775Z",
     "iopub.status.idle": "2024-12-17T11:12:32.572581Z",
     "shell.execute_reply": "2024-12-17T11:12:32.571566Z",
     "shell.execute_reply.started": "2024-12-17T10:46:55.260088Z"
    },
    "trusted": true
   },
   "outputs": [
    {
     "data": {
      "image/png": "[encoded data removed]",
      "text/plain": [
       "<Figure size 1000x1000 with 1 Axes>"
      ]
     },
     "metadata": {},
     "output_type": "display_data"
    },
    {
     "name": "stdout",
     "output_type": "stream",
     "text": [
      "Sampling time for iteration 11000: 141.5284 seconds\n",
      "Mean sampling time: 141.6132 seconds\n"
     ]
    }
   ],
   "source": [
    "import time \n",
    "\n",
    "sampling_times = []  # To store sampling times\n",
    "\n",
    "while current_iteration != total_iteration:\n",
    "    model.train()\n",
    "    try:\n",
    "        data = next(dataiterator)\n",
    "    except:\n",
    "        dataiterator = iter(dataloader)\n",
    "        data = next(dataiterator)\n",
    "    data = data[0].to(device=device)\n",
    "    loss = model.loss_fn(data)\n",
    "    \n",
    "    optim.zero_grad()\n",
    "    loss.backward()\n",
    "    optim.step()\n",
    "    \n",
    "    losses.update(loss.item())\n",
    "    progress.display(current_iteration)\n",
    "    current_iteration += 1\n",
    "    \n",
    "    if current_iteration % display_iteration == 0:\n",
    "        # Start the timer\n",
    "        start_time = time.time()\n",
    "        \n",
    "        dynamic = AnnealedHMCDynamic(sigma_min=0.01, sigma_max=1.0, L=10, T=20, score_fn=model, device='cuda', eps=eps)\n",
    "        sample = dynamic.sampling(sampling_number, only_final=True)\n",
    "        \n",
    "        end_time = time.time()\n",
    "        elapsed_time = end_time - start_time\n",
    "        \n",
    "        sampling_times.append(elapsed_time)\n",
    "        \n",
    "        imshow(sample, sampling_number)\n",
    "        save_image(im=sample, name='/kaggle/working/imghmc' + str(current_iteration) + '.jpg')\n",
    "        losses.reset()\n",
    "        \n",
    "        print(f\"Sampling time for iteration {current_iteration}: {elapsed_time:.4f} seconds\")\n",
    "\n",
    "    # Save the model weights periodically\n",
    "    model_save_path = '/kaggle/working/model_weights.pth'\n",
    "    torch.save(model.state_dict(), model_save_path)\n",
    "\n",
    "# Compute the mean sampling time after the loop ends\n",
    "if sampling_times:\n",
    "    mean_sampling_time = sum(sampling_times) / len(sampling_times)\n",
    "    print(f\"Mean sampling time: {mean_sampling_time:.4f} seconds\")\n",
    "else:\n",
    "    print(\"No sampling time recorded.\")\n"
   ]
  },
  {
   "cell_type": "code",
   "execution_count": null,
   "id": "5d25d270-c9a7-44c7-9730-97308672be12",
   "metadata": {
    "execution": {
     "iopub.execute_input": "2024-12-17T10:36:00.608456Z",
     "iopub.status.busy": "2024-12-17T10:36:00.607746Z",
     "iopub.status.idle": "2024-12-17T10:36:00.678820Z",
     "shell.execute_reply": "2024-12-17T10:36:00.677921Z",
     "shell.execute_reply.started": "2024-12-17T10:36:00.608415Z"
    },
    "trusted": true
   },
   "outputs": [],
   "source": [
    "# Saving image\n",
    "im = sample[0, 0].detach().cpu().numpy() \n",
    "save_image(im=sample,name='/kaggle/working/imghmc10200.jpg')"
   ]
  },
  {
   "cell_type": "markdown",
   "id": "fourth-bonus",
   "metadata": {
    "id": "fourth-bonus"
   },
   "source": [
    "## Inference Phase (Sampling)"
   ]
  },
  {
   "cell_type": "code",
   "execution_count": null,
   "id": "5768fa8b-0e90-4abc-a093-4775e490a669",
   "metadata": {
    "execution": {
     "iopub.execute_input": "2024-12-17T10:27:36.467819Z",
     "iopub.status.busy": "2024-12-17T10:27:36.467193Z",
     "iopub.status.idle": "2024-12-17T10:27:36.859304Z",
     "shell.execute_reply": "2024-12-17T10:27:36.858463Z",
     "shell.execute_reply.started": "2024-12-17T10:27:36.467783Z"
    },
    "trusted": true
   },
   "outputs": [
    {
     "data": {
      "text/plain": [
       "<All keys matched successfully>"
      ]
     },
     "execution_count": 13,
     "metadata": {},
     "output_type": "execute_result"
    }
   ],
   "source": [
    "#recover saved weights\n",
    "model_save_path = '/kaggle/input/wegiths/model_weights_dsm_hmc_mnist.pth'\n",
    "model.load_state_dict(torch.load(model_save_path,weights_only=True))"
   ]
  },
  {
   "cell_type": "markdown",
   "id": "2987f06e",
   "metadata": {},
   "source": [
    "Comparison between sampling time for Langevin dynamic and HMC (HMC takes more time then Langevin for one step)"
   ]
  },
  {
   "cell_type": "code",
   "execution_count": 18,
   "id": "a71150c0-e2da-4760-97b0-78e2d1b30dcd",
   "metadata": {
    "execution": {
     "iopub.execute_input": "2024-12-17T09:32:07.048710Z",
     "iopub.status.busy": "2024-12-17T09:32:07.048330Z",
     "iopub.status.idle": "2024-12-17T09:32:39.710867Z",
     "shell.execute_reply": "2024-12-17T09:32:39.709967Z",
     "shell.execute_reply.started": "2024-12-17T09:32:07.048666Z"
    },
    "trusted": true
   },
   "outputs": [
    {
     "name": "stdout",
     "output_type": "stream",
     "text": [
      "Sampling completed in 32.6538 seconds.\n"
     ]
    }
   ],
   "source": [
    "import time\n",
    "sampling_number = 16\n",
    "only_final = True\n",
    "dynamic = dynamic = AnnealedLangevinDynamic(sigma_min, sigma_max, n_steps, annealed_step, model, device, eps=eps)\n",
    "start_time = time.time()\n",
    "sample = dynamic.sampling(sampling_number, only_final=True)\n",
    "end_time = time.time()\n",
    "elapsed_time = end_time - start_time\n",
    "print(f\"Sampling completed in {elapsed_time:.4f} seconds.\")\n",
    "#imshow(sample, sampling_number)\n",
    "im = sample[0, 0].detach().cpu().numpy() \n",
    "save_image(im=sample,name='/kaggle/working/img2langevin.jpg')"
   ]
  },
  {
   "cell_type": "code",
   "execution_count": 20,
   "id": "military-beach",
   "metadata": {
    "execution": {
     "iopub.execute_input": "2024-12-17T09:36:35.830600Z",
     "iopub.status.busy": "2024-12-17T09:36:35.829984Z",
     "iopub.status.idle": "2024-12-17T09:38:51.921997Z",
     "shell.execute_reply": "2024-12-17T09:38:51.921165Z",
     "shell.execute_reply.started": "2024-12-17T09:36:35.830568Z"
    },
    "id": "military-beach",
    "trusted": true
   },
   "outputs": [
    {
     "name": "stdout",
     "output_type": "stream",
     "text": [
      "Sampling completed in 136.0832 seconds.\n"
     ]
    }
   ],
   "source": [
    "import time\n",
    "sampling_number = 16\n",
    "only_final = True\n",
    "dynamic = AnnealedHMCDynamic(sigma_min=0.01, sigma_max=1.0, L=10, T=20, score_fn=model, device='cuda', eps=eps)\n",
    "start_time = time.time()\n",
    "sample = dynamic.sampling(sampling_number, only_final=True)\n",
    "end_time = time.time()\n",
    "elapsed_time = end_time - start_time\n",
    "print(f\"Sampling completed in {elapsed_time:.4f} seconds.\")\n",
    "#imshow(sample, sampling_number)\n",
    "im = sample[0, 0].detach().cpu().numpy() \n",
    "save_image(im=sample,name='/kaggle/working/img2hmc.jpg')"
   ]
  },
  {
   "cell_type": "code",
   "execution_count": null,
   "id": "scientific-milwaukee",
   "metadata": {
    "id": "scientific-milwaukee"
   },
   "outputs": [],
   "source": [
    "sampling_number = 4\n",
    "only_final = False\n",
    "dynamic = AnnealedLangevinDynamic(sigma_min, sigma_max, n_steps, annealed_step, model, device, eps=eps)\n",
    "sample = dynamic.sampling(sampling_number, only_final)\n"
   ]
  }
 ],
 "metadata": {
  "colab": {
   "collapsed_sections": [],
   "name": "NCSN_MNIST.ipynb",
   "provenance": []
  },
  "kaggle": {
   "accelerator": "nvidiaTeslaT4",
   "dataSources": [
    {
     "datasetId": 6320222,
     "sourceId": 10223489,
     "sourceType": "datasetVersion"
    }
   ],
   "dockerImageVersionId": 30804,
   "isGpuEnabled": true,
   "isInternetEnabled": true,
   "language": "python",
   "sourceType": "notebook"
  },
  "kernelspec": {
   "display_name": "Python 3",
   "language": "python",
   "name": "python3"
  },
  "language_info": {
   "codemirror_mode": {
    "name": "ipython",
    "version": 3
   },
   "file_extension": ".py",
   "mimetype": "text/x-python",
   "name": "python",
   "nbconvert_exporter": "python",
   "pygments_lexer": "ipython3",
   "version": "3.10.14"
  }
 },
 "nbformat": 4,
 "nbformat_minor": 5
}
